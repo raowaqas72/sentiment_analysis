{
  "nbformat": 4,
  "nbformat_minor": 0,
  "metadata": {
    "colab": {
      "provenance": [],
      "gpuType": "T4"
    },
    "kernelspec": {
      "name": "python3",
      "display_name": "Python 3"
    },
    "language_info": {
      "name": "python"
    },
    "accelerator": "GPU"
  },
  "cells": [
    {
      "cell_type": "code",
      "execution_count": 1,
      "metadata": {
        "id": "lnzResASNvb5"
      },
      "outputs": [],
      "source": [
        "import numpy as np\n",
        "import pandas as pd\n",
        "import seaborn as sns\n",
        "import matplotlib.pyplot as plt\n",
        "import nltk\n",
        "from sklearn.feature_extraction.text import CountVectorizer\n",
        "from sklearn.feature_extraction.text import TfidfVectorizer\n",
        "from sklearn.preprocessing import LabelBinarizer\n",
        "from nltk.corpus import stopwords\n",
        "from nltk.stem.porter import PorterStemmer\n",
        "from wordcloud import WordCloud,STOPWORDS\n",
        "from nltk.stem import WordNetLemmatizer\n",
        "from nltk.tokenize import word_tokenize,sent_tokenize\n",
        "from bs4 import BeautifulSoup\n",
        "import spacy\n",
        "import re,string,unicodedata\n",
        "from nltk.tokenize.toktok import ToktokTokenizer\n",
        "from nltk.stem import LancasterStemmer,WordNetLemmatizer\n",
        "from sklearn.linear_model import LogisticRegression,SGDClassifier\n",
        "from sklearn.naive_bayes import MultinomialNB\n",
        "from sklearn.svm import SVC\n",
        "from textblob import TextBlob\n",
        "from textblob import Word\n",
        "from sklearn.metrics import classification_report,confusion_matrix,accuracy_score\n",
        "\n",
        "import os\n",
        "# print(os.listdir(\"../input\"))\n",
        "import warnings\n",
        "warnings.filterwarnings('ignore')"
      ]
    },
    {
      "cell_type": "code",
      "source": [
        "imdb_data=pd.read_csv('/content/drive/MyDrive/IMDBDataset.csv')\n",
        "print(imdb_data.shape)\n",
        "imdb_data.head(10)"
      ],
      "metadata": {
        "colab": {
          "base_uri": "https://localhost:8080/",
          "height": 380
        },
        "id": "9aN1rgOKNzf8",
        "outputId": "acfc3eab-efce-4062-9830-e4b8ee92cfcb"
      },
      "execution_count": 2,
      "outputs": [
        {
          "output_type": "stream",
          "name": "stdout",
          "text": [
            "(49999, 2)\n"
          ]
        },
        {
          "output_type": "execute_result",
          "data": {
            "text/plain": [
              "                                              review sentiment\n",
              "0  One of the other reviewers has mentioned that ...  positive\n",
              "1  A wonderful little production. <br /><br />The...  positive\n",
              "2  I thought this was a wonderful way to spend ti...  positive\n",
              "3  Basically there's a family where a little boy ...  negative\n",
              "4  Petter Mattei's \"Love in the Time of Money\" is...  positive\n",
              "5  Probably my all-time favorite movie, a story o...  positive\n",
              "6  I sure would like to see a resurrection of a u...  positive\n",
              "7  This show was an amazing, fresh & innovative i...  negative\n",
              "8  Encouraged by the positive comments about this...  negative\n",
              "9  If you like original gut wrenching laughter yo...  positive"
            ],
            "text/html": [
              "\n",
              "  <div id=\"df-f7d53a36-c176-4bd3-8e86-b8dab67d4351\" class=\"colab-df-container\">\n",
              "    <div>\n",
              "<style scoped>\n",
              "    .dataframe tbody tr th:only-of-type {\n",
              "        vertical-align: middle;\n",
              "    }\n",
              "\n",
              "    .dataframe tbody tr th {\n",
              "        vertical-align: top;\n",
              "    }\n",
              "\n",
              "    .dataframe thead th {\n",
              "        text-align: right;\n",
              "    }\n",
              "</style>\n",
              "<table border=\"1\" class=\"dataframe\">\n",
              "  <thead>\n",
              "    <tr style=\"text-align: right;\">\n",
              "      <th></th>\n",
              "      <th>review</th>\n",
              "      <th>sentiment</th>\n",
              "    </tr>\n",
              "  </thead>\n",
              "  <tbody>\n",
              "    <tr>\n",
              "      <th>0</th>\n",
              "      <td>One of the other reviewers has mentioned that ...</td>\n",
              "      <td>positive</td>\n",
              "    </tr>\n",
              "    <tr>\n",
              "      <th>1</th>\n",
              "      <td>A wonderful little production. &lt;br /&gt;&lt;br /&gt;The...</td>\n",
              "      <td>positive</td>\n",
              "    </tr>\n",
              "    <tr>\n",
              "      <th>2</th>\n",
              "      <td>I thought this was a wonderful way to spend ti...</td>\n",
              "      <td>positive</td>\n",
              "    </tr>\n",
              "    <tr>\n",
              "      <th>3</th>\n",
              "      <td>Basically there's a family where a little boy ...</td>\n",
              "      <td>negative</td>\n",
              "    </tr>\n",
              "    <tr>\n",
              "      <th>4</th>\n",
              "      <td>Petter Mattei's \"Love in the Time of Money\" is...</td>\n",
              "      <td>positive</td>\n",
              "    </tr>\n",
              "    <tr>\n",
              "      <th>5</th>\n",
              "      <td>Probably my all-time favorite movie, a story o...</td>\n",
              "      <td>positive</td>\n",
              "    </tr>\n",
              "    <tr>\n",
              "      <th>6</th>\n",
              "      <td>I sure would like to see a resurrection of a u...</td>\n",
              "      <td>positive</td>\n",
              "    </tr>\n",
              "    <tr>\n",
              "      <th>7</th>\n",
              "      <td>This show was an amazing, fresh &amp; innovative i...</td>\n",
              "      <td>negative</td>\n",
              "    </tr>\n",
              "    <tr>\n",
              "      <th>8</th>\n",
              "      <td>Encouraged by the positive comments about this...</td>\n",
              "      <td>negative</td>\n",
              "    </tr>\n",
              "    <tr>\n",
              "      <th>9</th>\n",
              "      <td>If you like original gut wrenching laughter yo...</td>\n",
              "      <td>positive</td>\n",
              "    </tr>\n",
              "  </tbody>\n",
              "</table>\n",
              "</div>\n",
              "    <div class=\"colab-df-buttons\">\n",
              "\n",
              "  <div class=\"colab-df-container\">\n",
              "    <button class=\"colab-df-convert\" onclick=\"convertToInteractive('df-f7d53a36-c176-4bd3-8e86-b8dab67d4351')\"\n",
              "            title=\"Convert this dataframe to an interactive table.\"\n",
              "            style=\"display:none;\">\n",
              "\n",
              "  <svg xmlns=\"http://www.w3.org/2000/svg\" height=\"24px\" viewBox=\"0 -960 960 960\">\n",
              "    <path d=\"M120-120v-720h720v720H120Zm60-500h600v-160H180v160Zm220 220h160v-160H400v160Zm0 220h160v-160H400v160ZM180-400h160v-160H180v160Zm440 0h160v-160H620v160ZM180-180h160v-160H180v160Zm440 0h160v-160H620v160Z\"/>\n",
              "  </svg>\n",
              "    </button>\n",
              "\n",
              "  <style>\n",
              "    .colab-df-container {\n",
              "      display:flex;\n",
              "      gap: 12px;\n",
              "    }\n",
              "\n",
              "    .colab-df-convert {\n",
              "      background-color: #E8F0FE;\n",
              "      border: none;\n",
              "      border-radius: 50%;\n",
              "      cursor: pointer;\n",
              "      display: none;\n",
              "      fill: #1967D2;\n",
              "      height: 32px;\n",
              "      padding: 0 0 0 0;\n",
              "      width: 32px;\n",
              "    }\n",
              "\n",
              "    .colab-df-convert:hover {\n",
              "      background-color: #E2EBFA;\n",
              "      box-shadow: 0px 1px 2px rgba(60, 64, 67, 0.3), 0px 1px 3px 1px rgba(60, 64, 67, 0.15);\n",
              "      fill: #174EA6;\n",
              "    }\n",
              "\n",
              "    .colab-df-buttons div {\n",
              "      margin-bottom: 4px;\n",
              "    }\n",
              "\n",
              "    [theme=dark] .colab-df-convert {\n",
              "      background-color: #3B4455;\n",
              "      fill: #D2E3FC;\n",
              "    }\n",
              "\n",
              "    [theme=dark] .colab-df-convert:hover {\n",
              "      background-color: #434B5C;\n",
              "      box-shadow: 0px 1px 3px 1px rgba(0, 0, 0, 0.15);\n",
              "      filter: drop-shadow(0px 1px 2px rgba(0, 0, 0, 0.3));\n",
              "      fill: #FFFFFF;\n",
              "    }\n",
              "  </style>\n",
              "\n",
              "    <script>\n",
              "      const buttonEl =\n",
              "        document.querySelector('#df-f7d53a36-c176-4bd3-8e86-b8dab67d4351 button.colab-df-convert');\n",
              "      buttonEl.style.display =\n",
              "        google.colab.kernel.accessAllowed ? 'block' : 'none';\n",
              "\n",
              "      async function convertToInteractive(key) {\n",
              "        const element = document.querySelector('#df-f7d53a36-c176-4bd3-8e86-b8dab67d4351');\n",
              "        const dataTable =\n",
              "          await google.colab.kernel.invokeFunction('convertToInteractive',\n",
              "                                                    [key], {});\n",
              "        if (!dataTable) return;\n",
              "\n",
              "        const docLinkHtml = 'Like what you see? Visit the ' +\n",
              "          '<a target=\"_blank\" href=https://colab.research.google.com/notebooks/data_table.ipynb>data table notebook</a>'\n",
              "          + ' to learn more about interactive tables.';\n",
              "        element.innerHTML = '';\n",
              "        dataTable['output_type'] = 'display_data';\n",
              "        await google.colab.output.renderOutput(dataTable, element);\n",
              "        const docLink = document.createElement('div');\n",
              "        docLink.innerHTML = docLinkHtml;\n",
              "        element.appendChild(docLink);\n",
              "      }\n",
              "    </script>\n",
              "  </div>\n",
              "\n",
              "\n",
              "<div id=\"df-e919b330-92ad-4c75-a677-608021815fe0\">\n",
              "  <button class=\"colab-df-quickchart\" onclick=\"quickchart('df-e919b330-92ad-4c75-a677-608021815fe0')\"\n",
              "            title=\"Suggest charts.\"\n",
              "            style=\"display:none;\">\n",
              "\n",
              "<svg xmlns=\"http://www.w3.org/2000/svg\" height=\"24px\"viewBox=\"0 0 24 24\"\n",
              "     width=\"24px\">\n",
              "    <g>\n",
              "        <path d=\"M19 3H5c-1.1 0-2 .9-2 2v14c0 1.1.9 2 2 2h14c1.1 0 2-.9 2-2V5c0-1.1-.9-2-2-2zM9 17H7v-7h2v7zm4 0h-2V7h2v10zm4 0h-2v-4h2v4z\"/>\n",
              "    </g>\n",
              "</svg>\n",
              "  </button>\n",
              "\n",
              "<style>\n",
              "  .colab-df-quickchart {\n",
              "    background-color: #E8F0FE;\n",
              "    border: none;\n",
              "    border-radius: 50%;\n",
              "    cursor: pointer;\n",
              "    display: none;\n",
              "    fill: #1967D2;\n",
              "    height: 32px;\n",
              "    padding: 0 0 0 0;\n",
              "    width: 32px;\n",
              "  }\n",
              "\n",
              "  .colab-df-quickchart:hover {\n",
              "    background-color: #E2EBFA;\n",
              "    box-shadow: 0px 1px 2px rgba(60, 64, 67, 0.3), 0px 1px 3px 1px rgba(60, 64, 67, 0.15);\n",
              "    fill: #174EA6;\n",
              "  }\n",
              "\n",
              "  [theme=dark] .colab-df-quickchart {\n",
              "    background-color: #3B4455;\n",
              "    fill: #D2E3FC;\n",
              "  }\n",
              "\n",
              "  [theme=dark] .colab-df-quickchart:hover {\n",
              "    background-color: #434B5C;\n",
              "    box-shadow: 0px 1px 3px 1px rgba(0, 0, 0, 0.15);\n",
              "    filter: drop-shadow(0px 1px 2px rgba(0, 0, 0, 0.3));\n",
              "    fill: #FFFFFF;\n",
              "  }\n",
              "</style>\n",
              "\n",
              "  <script>\n",
              "    async function quickchart(key) {\n",
              "      const charts = await google.colab.kernel.invokeFunction(\n",
              "          'suggestCharts', [key], {});\n",
              "    }\n",
              "    (() => {\n",
              "      let quickchartButtonEl =\n",
              "        document.querySelector('#df-e919b330-92ad-4c75-a677-608021815fe0 button');\n",
              "      quickchartButtonEl.style.display =\n",
              "        google.colab.kernel.accessAllowed ? 'block' : 'none';\n",
              "    })();\n",
              "  </script>\n",
              "</div>\n",
              "    </div>\n",
              "  </div>\n"
            ]
          },
          "metadata": {},
          "execution_count": 2
        }
      ]
    },
    {
      "cell_type": "code",
      "source": [
        "imdb_data['sentiment'].value_counts()"
      ],
      "metadata": {
        "colab": {
          "base_uri": "https://localhost:8080/"
        },
        "id": "ArbnILJ3Oixc",
        "outputId": "b9981c86-d3f6-4b7a-fc2e-a50e5380eac0"
      },
      "execution_count": 3,
      "outputs": [
        {
          "output_type": "execute_result",
          "data": {
            "text/plain": [
              "negative    25004\n",
              "positive    24995\n",
              "Name: sentiment, dtype: int64"
            ]
          },
          "metadata": {},
          "execution_count": 3
        }
      ]
    },
    {
      "cell_type": "code",
      "source": [
        "train_reviews=imdb_data.review[:40000]\n",
        "train_sentiments=imdb_data.sentiment[:40000]\n",
        "#test dataset\n",
        "test_reviews=imdb_data.review[40000:]\n",
        "test_sentiments=imdb_data.sentiment[40000:]\n",
        "print(train_reviews.shape,train_sentiments.shape)\n",
        "print(test_reviews.shape,test_sentiments.shape)"
      ],
      "metadata": {
        "colab": {
          "base_uri": "https://localhost:8080/"
        },
        "id": "HYLecQMZOn8O",
        "outputId": "d0a22068-9f01-4eb1-b8eb-425e9b9c433f"
      },
      "execution_count": 4,
      "outputs": [
        {
          "output_type": "stream",
          "name": "stdout",
          "text": [
            "(40000,) (40000,)\n",
            "(9999,) (9999,)\n"
          ]
        }
      ]
    },
    {
      "cell_type": "code",
      "source": [
        "import nltk\n",
        "nltk.download('stopwords')"
      ],
      "metadata": {
        "colab": {
          "base_uri": "https://localhost:8080/"
        },
        "id": "ZmT-ikayO1l6",
        "outputId": "8e5c0296-6cd5-482d-80e3-f854f506448d"
      },
      "execution_count": 5,
      "outputs": [
        {
          "output_type": "stream",
          "name": "stderr",
          "text": [
            "[nltk_data] Downloading package stopwords to /root/nltk_data...\n",
            "[nltk_data]   Unzipping corpora/stopwords.zip.\n"
          ]
        },
        {
          "output_type": "execute_result",
          "data": {
            "text/plain": [
              "True"
            ]
          },
          "metadata": {},
          "execution_count": 5
        }
      ]
    },
    {
      "cell_type": "code",
      "source": [
        "tokenizer=ToktokTokenizer()\n",
        "#Setting English stopwords\n",
        "stopword_list=nltk.corpus.stopwords.words('english')"
      ],
      "metadata": {
        "id": "oUTzf81POvTj"
      },
      "execution_count": 6,
      "outputs": []
    },
    {
      "cell_type": "code",
      "source": [
        "def strip_html(text):\n",
        "    soup = BeautifulSoup(text, \"html.parser\")\n",
        "    return soup.get_text()\n",
        "\n",
        "#Removing the square brackets\n",
        "def remove_between_square_brackets(text):\n",
        "    return re.sub('\\[[^]]*\\]', '', text)\n",
        "\n",
        "#Removing the noisy text\n",
        "def denoise_text(text):\n",
        "    text = strip_html(text)\n",
        "    text = remove_between_square_brackets(text)\n",
        "    return text\n",
        "#Apply function on review column\n",
        "imdb_data['review']=imdb_data['review'].apply(denoise_text)"
      ],
      "metadata": {
        "id": "Qfq9SOaeO8hF"
      },
      "execution_count": 7,
      "outputs": []
    },
    {
      "cell_type": "code",
      "source": [
        "def remove_special_characters(text, remove_digits=True):\n",
        "    pattern=r'[^a-zA-z0-9\\s]'\n",
        "    text=re.sub(pattern,'',text)\n",
        "    return text\n",
        "#Apply function on review column\n",
        "imdb_data['review']=imdb_data['review'].apply(remove_special_characters)"
      ],
      "metadata": {
        "id": "BdbRBlDmPC8d"
      },
      "execution_count": 8,
      "outputs": []
    },
    {
      "cell_type": "code",
      "source": [
        "#Stemming the text\n",
        "def simple_stemmer(text):\n",
        "    ps=nltk.porter.PorterStemmer()\n",
        "    text= ' '.join([ps.stem(word) for word in text.split()])\n",
        "    return text\n",
        "#Apply function on review column\n",
        "imdb_data['review']=imdb_data['review'].apply(simple_stemmer)"
      ],
      "metadata": {
        "id": "FXrUF0qWPG2R"
      },
      "execution_count": 9,
      "outputs": []
    },
    {
      "cell_type": "code",
      "source": [
        "#set stopwords to english\n",
        "stop=set(stopwords.words('english'))\n",
        "print(stop)\n",
        "\n",
        "#removing the stopwords\n",
        "def remove_stopwords(text, is_lower_case=False):\n",
        "    tokens = tokenizer.tokenize(text)\n",
        "    tokens = [token.strip() for token in tokens]\n",
        "    if is_lower_case:\n",
        "        filtered_tokens = [token for token in tokens if token not in stopword_list]\n",
        "    else:\n",
        "        filtered_tokens = [token for token in tokens if token.lower() not in stopword_list]\n",
        "    filtered_text = ' '.join(filtered_tokens)\n",
        "    return filtered_text\n",
        "#Apply function on review column\n",
        "imdb_data['review']=imdb_data['review'].apply(remove_stopwords)"
      ],
      "metadata": {
        "colab": {
          "base_uri": "https://localhost:8080/"
        },
        "id": "cStVbmo5PK7y",
        "outputId": "31524ad4-b0c9-43c9-8db1-84b6df5f9a1f"
      },
      "execution_count": 10,
      "outputs": [
        {
          "output_type": "stream",
          "name": "stdout",
          "text": [
            "{'hadn', 'their', \"won't\", 'those', 'am', \"you've\", 'against', 'were', 'until', 'any', \"should've\", 'you', 'above', 'more', 'ain', 'be', 'off', 'both', 'll', 'hers', 'if', 'y', \"mightn't\", 'on', 'over', \"weren't\", 'at', 'ma', 'my', 'or', \"isn't\", 'isn', 'wouldn', \"doesn't\", \"mustn't\", 've', 'which', 'doesn', \"hadn't\", 'haven', 'an', 'for', \"you're\", 'she', 'are', 'so', 'aren', 'wasn', 'now', 'me', 'himself', 'him', 'into', 'than', 'he', \"couldn't\", 'needn', 'has', 'in', 'd', 'having', 'who', 'didn', 'them', 'being', 'had', 'once', 'did', 'some', \"aren't\", 'further', 'below', 'have', 'between', 's', 'as', 'few', 'his', \"hasn't\", 'not', 'when', 'and', 'ours', \"didn't\", 'again', 'too', \"shan't\", 'with', 'ourselves', 'shouldn', \"wouldn't\", 'down', 'mightn', 'to', 'hasn', 'myself', 'out', 'by', 'that', \"don't\", 'yourselves', 'nor', \"wasn't\", 'after', \"haven't\", \"shouldn't\", \"you'll\", 'before', 'her', 'itself', 'can', 'was', 'then', 'what', 'themselves', 'of', 'do', 'a', 'such', 'how', 'theirs', 'no', 'other', 'same', 'shan', 'there', \"she's\", \"it's\", 'why', 'yourself', 'don', 'but', 'they', 'whom', 'herself', 'we', 'doing', 'because', 'is', 'from', 'all', 'our', 'through', \"that'll\", 'about', 'yours', 'been', 'while', 'only', 'each', 'the', 'couldn', \"you'd\", 'most', 'up', 'own', 'just', 'mustn', 'here', 'your', 'very', 'should', 'during', 'weren', 'i', 't', 'm', 'does', 'where', 're', 'this', 'will', 'under', 'won', 'it', 'its', 'o', 'these', \"needn't\"}\n"
          ]
        }
      ]
    },
    {
      "cell_type": "code",
      "source": [
        "#normalized train reviews\n",
        "norm_train_reviews=imdb_data.review[:40000]\n",
        "norm_train_reviews[0]"
      ],
      "metadata": {
        "colab": {
          "base_uri": "https://localhost:8080/",
          "height": 192
        },
        "id": "838gwyYFPRM1",
        "outputId": "3a0029a3-dd18-4988-a7b7-cf946d41c333"
      },
      "execution_count": 11,
      "outputs": [
        {
          "output_type": "execute_result",
          "data": {
            "text/plain": [
              "'one review ha mention watch 1 oz episod youll hook right thi exactli happen meth first thing struck oz wa brutal unflinch scene violenc set right word go trust thi show faint heart timid thi show pull punch regard drug sex violenc hardcor classic use wordit call oz nicknam given oswald maximum secur state penitentari focus mainli emerald citi experiment section prison cell glass front face inward privaci high agenda em citi home manyaryan muslim gangsta latino christian italian irish moreso scuffl death stare dodgi deal shadi agreement never far awayi would say main appeal show due fact goe show wouldnt dare forget pretti pictur paint mainstream audienc forget charm forget romanceoz doesnt mess around first episod ever saw struck nasti wa surreal couldnt say wa readi watch develop tast oz got accustom high level graphic violenc violenc injustic crook guard wholl sold nickel inmat wholl kill order get away well manner middl class inmat turn prison bitch due lack street skill prison experi watch oz may becom comfort uncomfort viewingthat get touch darker side'"
            ],
            "application/vnd.google.colaboratory.intrinsic+json": {
              "type": "string"
            }
          },
          "metadata": {},
          "execution_count": 11
        }
      ]
    },
    {
      "cell_type": "code",
      "source": [
        "norm_test_reviews=imdb_data.review[40000:]\n",
        "norm_test_reviews[45005]"
      ],
      "metadata": {
        "colab": {
          "base_uri": "https://localhost:8080/",
          "height": 192
        },
        "id": "e0NQhZjgQTUO",
        "outputId": "b887ed7e-08ec-4bca-ac69-71af1a6d1ea0"
      },
      "execution_count": 12,
      "outputs": [
        {
          "output_type": "execute_result",
          "data": {
            "text/plain": [
              "'read review watch thi piec cinemat garbag took least 2 page find somebodi els didnt think thi appallingli unfunni montag wasnt acm humour 70 inde ani era thi isnt least funni set sketch comedi ive ever seen itll till come along half skit alreadi done infinit better act monti python woodi allen wa say nice piec anim last 90 second highlight thi film would still get close sum mindless drivelridden thi wast 75 minut semin comedi onli world semin realli doe mean semen scatolog humour onli world scat actual fece precursor joke onli mean thi handbook comedi tit bum odd beaver niceif pubesc boy least one hand free havent found playboy exist give break becaus wa earli 70 way sketch comedi go back least ten year prior onli way could even forgiv thi film even made wa gunpoint retro hardli sketch clown subtli pervert children may cut edg circl could actual funni come realli quit sad kept go throughout entir 75 minut sheer belief may save genuin funni skit end gave film 1 becaus wa lower scoreand onli recommend insomniac coma patientsor perhap peopl suffer lockjawtheir jaw would final drop open disbelief'"
            ],
            "application/vnd.google.colaboratory.intrinsic+json": {
              "type": "string"
            }
          },
          "metadata": {},
          "execution_count": 12
        }
      ]
    },
    {
      "cell_type": "code",
      "source": [
        "cv=CountVectorizer(min_df=0,max_df=1,binary=False,ngram_range=(1,3))\n",
        "#transformed train reviews\n",
        "cv_train_reviews=cv.fit_transform(norm_train_reviews)\n",
        "#transformed test reviews\n",
        "cv_test_reviews=cv.transform(norm_test_reviews)\n",
        "\n",
        "print('BOW_cv_train:',cv_train_reviews.shape)\n",
        "print('BOW_cv_test:',cv_test_reviews.shape)"
      ],
      "metadata": {
        "colab": {
          "base_uri": "https://localhost:8080/"
        },
        "id": "a65jFqgxQaii",
        "outputId": "e6db00a6-ecec-4afa-81e6-f3b59ae563a4"
      },
      "execution_count": 13,
      "outputs": [
        {
          "output_type": "stream",
          "name": "stdout",
          "text": [
            "BOW_cv_train: (40000, 6203875)\n",
            "BOW_cv_test: (9999, 6203875)\n"
          ]
        }
      ]
    },
    {
      "cell_type": "code",
      "source": [
        "#Tfidf vectorizer\n",
        "tv=TfidfVectorizer(min_df=0,max_df=1,use_idf=True,ngram_range=(1,3))\n",
        "#transformed train reviews\n",
        "tv_train_reviews=tv.fit_transform(norm_train_reviews)\n",
        "#transformed test reviews\n",
        "tv_test_reviews=tv.transform(norm_test_reviews)\n",
        "print('Tfidf_train:',tv_train_reviews.shape)\n",
        "print('Tfidf_test:',tv_test_reviews.shape)"
      ],
      "metadata": {
        "colab": {
          "base_uri": "https://localhost:8080/"
        },
        "id": "g2HJNCJkQgTf",
        "outputId": "ca3c4b21-6192-4213-8a8a-702118c86efd"
      },
      "execution_count": 14,
      "outputs": [
        {
          "output_type": "stream",
          "name": "stdout",
          "text": [
            "Tfidf_train: (40000, 6203875)\n",
            "Tfidf_test: (9999, 6203875)\n"
          ]
        }
      ]
    },
    {
      "cell_type": "code",
      "source": [
        "#labeling the sentient data\n",
        "lb=LabelBinarizer()\n",
        "#transformed sentiment data\n",
        "sentiment_data=lb.fit_transform(imdb_data['sentiment'])\n",
        "print(sentiment_data.shape)"
      ],
      "metadata": {
        "colab": {
          "base_uri": "https://localhost:8080/"
        },
        "id": "TcqsscjRQkuF",
        "outputId": "0fbba427-2685-42d6-f2cd-0e70951c44a4"
      },
      "execution_count": 15,
      "outputs": [
        {
          "output_type": "stream",
          "name": "stdout",
          "text": [
            "(49999, 1)\n"
          ]
        }
      ]
    },
    {
      "cell_type": "code",
      "source": [
        "train_sentiments=sentiment_data[:40000]\n",
        "test_sentiments=sentiment_data[40000:]\n",
        "print(train_sentiments)\n",
        "print(test_sentiments)"
      ],
      "metadata": {
        "colab": {
          "base_uri": "https://localhost:8080/"
        },
        "id": "3ferZSIvQ8MJ",
        "outputId": "2827e419-c9ea-4ede-f9d9-a53a27a978d9"
      },
      "execution_count": 16,
      "outputs": [
        {
          "output_type": "stream",
          "name": "stdout",
          "text": [
            "[[1]\n",
            " [1]\n",
            " [1]\n",
            " ...\n",
            " [1]\n",
            " [0]\n",
            " [0]]\n",
            "[[0]\n",
            " [0]\n",
            " [0]\n",
            " ...\n",
            " [0]\n",
            " [0]\n",
            " [0]]\n"
          ]
        }
      ]
    },
    {
      "cell_type": "code",
      "source": [
        "lr=LogisticRegression(penalty='l2',max_iter=500,C=1,random_state=42)\n",
        "#Fitting the model for Bag of words\n",
        "lr_bow=lr.fit(cv_train_reviews,train_sentiments)\n",
        "print(lr_bow)\n",
        "#Fitting the model for tfidf features\n",
        "lr_tfidf=lr.fit(tv_train_reviews,train_sentiments)\n",
        "print(lr_tfidf)"
      ],
      "metadata": {
        "colab": {
          "base_uri": "https://localhost:8080/"
        },
        "id": "gM2F5RSdRAYR",
        "outputId": "23423d9d-804f-4373-e92e-09e8b31198d4"
      },
      "execution_count": 17,
      "outputs": [
        {
          "output_type": "stream",
          "name": "stdout",
          "text": [
            "LogisticRegression(C=1, max_iter=500, random_state=42)\n",
            "LogisticRegression(C=1, max_iter=500, random_state=42)\n"
          ]
        }
      ]
    },
    {
      "cell_type": "code",
      "source": [
        "#Predicting the model for bag of words\n",
        "lr_bow_predict=lr.predict(cv_test_reviews)\n",
        "print(lr_bow_predict)\n",
        "##Predicting the model for tfidf features\n",
        "lr_tfidf_predict=lr.predict(tv_test_reviews)\n",
        "print(lr_tfidf_predict)"
      ],
      "metadata": {
        "colab": {
          "base_uri": "https://localhost:8080/"
        },
        "id": "u49Z1HriRKFV",
        "outputId": "044974c7-fdd4-4f0b-81f0-bfc3cf86f407"
      },
      "execution_count": 18,
      "outputs": [
        {
          "output_type": "stream",
          "name": "stdout",
          "text": [
            "[0 0 0 ... 1 1 1]\n",
            "[0 0 0 ... 1 1 1]\n"
          ]
        }
      ]
    },
    {
      "cell_type": "code",
      "source": [
        "lr_bow_score=accuracy_score(test_sentiments,lr_bow_predict)\n",
        "print(\"lr_bow_score :\",lr_bow_score)\n",
        "#Accuracy score for tfidf features\n",
        "lr_tfidf_score=accuracy_score(test_sentiments,lr_tfidf_predict)\n",
        "print(\"lr_tfidf_score :\",lr_tfidf_score)"
      ],
      "metadata": {
        "colab": {
          "base_uri": "https://localhost:8080/"
        },
        "id": "wjHbVhorRP7k",
        "outputId": "b1c9dd1b-e918-437d-d9cc-9dddd41e8763"
      },
      "execution_count": 19,
      "outputs": [
        {
          "output_type": "stream",
          "name": "stdout",
          "text": [
            "lr_bow_score : 0.7463746374637463\n",
            "lr_tfidf_score : 0.7456745674567457\n"
          ]
        }
      ]
    },
    {
      "cell_type": "code",
      "source": [
        "lr_bow_report=classification_report(test_sentiments,lr_bow_predict,target_names=['Positive','Negative'])\n",
        "print(lr_bow_report)\n",
        "\n",
        "#Classification report for tfidf features\n",
        "lr_tfidf_report=classification_report(test_sentiments,lr_tfidf_predict,target_names=['Positive','Negative'])\n",
        "print(lr_tfidf_report)"
      ],
      "metadata": {
        "colab": {
          "base_uri": "https://localhost:8080/"
        },
        "id": "gikA1EBNRiP3",
        "outputId": "8d693f54-aeab-4642-b95e-3f42d4d0e924"
      },
      "execution_count": 20,
      "outputs": [
        {
          "output_type": "stream",
          "name": "stdout",
          "text": [
            "              precision    recall  f1-score   support\n",
            "\n",
            "    Positive       0.75      0.75      0.75      4997\n",
            "    Negative       0.75      0.75      0.75      5002\n",
            "\n",
            "    accuracy                           0.75      9999\n",
            "   macro avg       0.75      0.75      0.75      9999\n",
            "weighted avg       0.75      0.75      0.75      9999\n",
            "\n",
            "              precision    recall  f1-score   support\n",
            "\n",
            "    Positive       0.74      0.76      0.75      4997\n",
            "    Negative       0.76      0.73      0.74      5002\n",
            "\n",
            "    accuracy                           0.75      9999\n",
            "   macro avg       0.75      0.75      0.75      9999\n",
            "weighted avg       0.75      0.75      0.75      9999\n",
            "\n"
          ]
        }
      ]
    },
    {
      "cell_type": "code",
      "source": [],
      "metadata": {
        "id": "Mhy31wgfUt9u"
      },
      "execution_count": null,
      "outputs": []
    },
    {
      "cell_type": "code",
      "source": [],
      "metadata": {
        "id": "atlijxD_U0-n"
      },
      "execution_count": null,
      "outputs": []
    },
    {
      "cell_type": "code",
      "source": [
        "import pickle\n",
        "\n",
        "# Save the trained models to disk\n",
        "with open('lr_bow_model.pkl', 'wb') as file:\n",
        "    pickle.dump(lr_bow, file)\n",
        "\n",
        "with open('lr_tfidf_model.pkl', 'wb') as file:\n",
        "    pickle.dump(lr_tfidf, file)\n",
        "\n",
        "# Load the trained models from disk\n",
        "with open('lr_bow_model.pkl', 'rb') as file:\n",
        "    loaded_lr_bow_model = pickle.load(file)\n",
        "\n",
        "with open('lr_tfidf_model.pkl', 'rb') as file:\n",
        "    loaded_lr_tfidf_model = pickle.load(file)\n",
        "\n",
        "# Now you can use the loaded models for real-time inference on new data\n",
        "def predict_sentiment_bow(model, text):\n",
        "    # Preprocess the input text\n",
        "    processed_text = denoise_text(text)\n",
        "    processed_text = remove_special_characters(processed_text)\n",
        "    processed_text = simple_stemmer(processed_text)\n",
        "    processed_text = remove_stopwords(processed_text)\n",
        "\n",
        "    # Transform the processed text using the CountVectorizer\n",
        "    text_vector = cv.transform([processed_text])\n",
        "\n",
        "    # Predict sentiment using the model\n",
        "    sentiment_prediction = model.predict(text_vector)\n",
        "\n",
        "    if sentiment_prediction[0] == 1:\n",
        "        return 'Positive'\n",
        "    else:\n",
        "        return 'Negative'\n",
        "\n",
        "def predict_sentiment_tfidf(model, text):\n",
        "    # Preprocess the input text\n",
        "    processed_text = denoise_text(text)\n",
        "    processed_text = remove_special_characters(processed_text)\n",
        "    processed_text = simple_stemmer(processed_text)\n",
        "    processed_text = remove_stopwords(processed_text)\n",
        "\n",
        "    # Transform the processed text using the TfidfVectorizer\n",
        "    text_vector = tv.transform([processed_text])\n",
        "\n",
        "    # Predict sentiment using the model\n",
        "    sentiment_prediction = model.predict(text_vector)\n",
        "\n",
        "    if sentiment_prediction[0] == 1:\n",
        "        return 'Positive'\n",
        "    else:\n",
        "        return 'Negative'\n",
        "\n",
        "# Example of real-time inference using the loaded models\n",
        "new_text = \"It was great movie\"\n",
        "predicted_sentiment_bow = predict_sentiment_bow(loaded_lr_bow_model, new_text)\n",
        "predicted_sentiment_tfidf = predict_sentiment_tfidf(loaded_lr_tfidf_model, new_text)\n",
        "\n",
        "print(\"Predicted Sentiment using BoW model:\", predicted_sentiment_bow)\n",
        "print(\"Predicted Sentiment using TF-IDF model:\", predicted_sentiment_tfidf)\n"
      ],
      "metadata": {
        "colab": {
          "base_uri": "https://localhost:8080/"
        },
        "id": "P9JA8TNrTaSn",
        "outputId": "51aa9d9d-fc82-42c1-9608-55d7fd1fab8e"
      },
      "execution_count": 23,
      "outputs": [
        {
          "output_type": "stream",
          "name": "stdout",
          "text": [
            "Predicted Sentiment using BoW model: Negative\n",
            "Predicted Sentiment using TF-IDF model: Negative\n"
          ]
        }
      ]
    },
    {
      "cell_type": "code",
      "source": [],
      "metadata": {
        "colab": {
          "base_uri": "https://localhost:8080/",
          "height": 470
        },
        "id": "xQgQQpysRtMU",
        "outputId": "befcb370-6c6a-4f2e-e504-21494afaafab"
      },
      "execution_count": null,
      "outputs": [
        {
          "output_type": "execute_result",
          "data": {
            "text/plain": [
              "<function matplotlib.pyplot.show(close=None, block=None)>"
            ]
          },
          "metadata": {},
          "execution_count": 23
        },
        {
          "output_type": "display_data",
          "data": {
            "text/plain": [
              "<Figure size 1000x1000 with 1 Axes>"
            ],
            "image/png": "[encoded data removed]"
          },
          "metadata": {}
        }
      ]
    },
    {
      "cell_type": "code",
      "source": [
        "svm=SGDClassifier(loss='hinge',max_iter=500,random_state=42)\n",
        "#fitting the svm for bag of words\n",
        "svm_bow=svm.fit(cv_train_reviews,train_sentiments)\n",
        "print(svm_bow)\n",
        "#fitting the svm for tfidf features\n",
        "svm_tfidf=svm.fit(tv_train_reviews,train_sentiments)\n",
        "print(svm_tfidf)\n",
        "svm_bow_predict=svm.predict(cv_test_reviews)\n",
        "print(svm_bow_predict)\n",
        "#Predicting the model for tfidf features\n",
        "svm_tfidf_predict=svm.predict(tv_test_reviews)\n",
        "print(svm_tfidf_predict)"
      ],
      "metadata": {
        "colab": {
          "base_uri": "https://localhost:8080/"
        },
        "id": "z0W-1Zx0U4IZ",
        "outputId": "e20a7693-6aa4-48da-81c3-4b0472242e23"
      },
      "execution_count": 24,
      "outputs": [
        {
          "output_type": "stream",
          "name": "stdout",
          "text": [
            "SGDClassifier(max_iter=500, random_state=42)\n",
            "SGDClassifier(max_iter=500, random_state=42)\n",
            "[1 1 0 ... 1 1 1]\n",
            "[1 1 1 ... 1 1 1]\n"
          ]
        }
      ]
    },
    {
      "cell_type": "code",
      "source": [
        "import pickle\n",
        "from sklearn.naive_bayes import MultinomialNB\n",
        "\n",
        "# Instantiate the MNB model\n",
        "mnb = MultinomialNB()\n",
        "\n",
        "# Fitting the MNB for Bag of Words\n",
        "mnb_bow = mnb.fit(cv_train_reviews, train_sentiments)\n",
        "print(mnb_bow)\n",
        "\n",
        "# Fitting the MNB for TF-IDF features\n",
        "mnb_tfidf = mnb.fit(tv_train_reviews, train_sentiments)\n",
        "print(mnb_tfidf)\n",
        "\n",
        "# Predicting using the MNB model for Bag of Words\n",
        "mnb_bow_predict = mnb.predict(cv_test_reviews)\n",
        "print(mnb_bow_predict)\n",
        "\n",
        "# Predicting using the MNB model for TF-IDF features\n",
        "mnb_tfidf_predict = mnb.predict(tv_test_reviews)\n",
        "print(mnb_tfidf_predict)\n",
        "\n",
        "# Calculate accuracy scores if needed\n",
        "mnb_bow_score = accuracy_score(test_sentiments, mnb_bow_predict)\n",
        "print(\"MNB Bag of Words Accuracy:\", mnb_bow_score)\n",
        "mnb_tfidf_score = accuracy_score(test_sentiments, mnb_tfidf_predict)\n",
        "print(\"MNB TF-IDF Accuracy:\", mnb_tfidf_score)\n",
        "\n",
        "# Save the MNB models to disk\n",
        "with open('mnb_bow_model.pkl', 'wb') as file:\n",
        "    pickle.dump(mnb_bow, file)\n",
        "\n",
        "with open('mnb_tfidf_model.pkl', 'wb') as file:\n",
        "    pickle.dump(mnb_tfidf, file)\n",
        "\n",
        "# Load the MNB models from disk\n",
        "with open('mnb_bow_model.pkl', 'rb') as file:\n",
        "    loaded_mnb_bow_model = pickle.load(file)\n",
        "\n",
        "with open('mnb_tfidf_model.pkl', 'rb') as file:\n",
        "    loaded_mnb_tfidf_model = pickle.load(file)\n",
        "\n",
        "# Now you can use the loaded MNB models for real-time inference on new data\n",
        "def predict_sentiment_mnb_bow(model, text):\n",
        "    # Preprocess the input text\n",
        "    processed_text = denoise_text(text)\n",
        "    processed_text = remove_special_characters(processed_text)\n",
        "    processed_text = simple_stemmer(processed_text)\n",
        "    processed_text = remove_stopwords(processed_text)\n",
        "\n",
        "    # Transform the processed text using the CountVectorizer\n",
        "    text_vector = cv.transform([processed_text])\n",
        "\n",
        "    # Predict sentiment using the model\n",
        "    sentiment_prediction = model.predict(text_vector)\n",
        "\n",
        "    if sentiment_prediction[0] == 1:\n",
        "        return 'Positive'\n",
        "    else:\n",
        "        return 'Negative'\n",
        "\n",
        "def predict_sentiment_mnb_tfidf(model, text):\n",
        "    # Preprocess the input text\n",
        "    processed_text = denoise_text(text)\n",
        "    processed_text = remove_special_characters(processed_text)\n",
        "    processed_text = simple_stemmer(processed_text)\n",
        "    processed_text = remove_stopwords(processed_text)\n",
        "\n",
        "    # Transform the processed text using the TfidfVectorizer\n",
        "    text_vector = tv.transform([processed_text])\n",
        "\n",
        "    # Predict sentiment using the model\n",
        "    sentiment_prediction = model.predict(text_vector)\n",
        "\n",
        "    if sentiment_prediction[0] == 1:\n",
        "        return 'Positive'\n",
        "    else:\n",
        "        return 'Negative'\n",
        "\n",
        "# Example of real-time inference using the loaded MNB models\n",
        "new_text = \"I was bad watching this movie\"\n",
        "predicted_sentiment_mnb_bow = predict_sentiment_mnb_bow(loaded_mnb_bow_model, new_text)\n",
        "predicted_sentiment_mnb_tfidf = predict_sentiment_mnb_tfidf(loaded_mnb_tfidf_model, new_text)\n",
        "\n",
        "print(\"Predicted Sentiment using MNB and BoW:\", predicted_sentiment_mnb_bow)\n",
        "print(\"Predicted Sentiment using MNB and TF-IDF:\", predicted_sentiment_mnb_tfidf)\n"
      ],
      "metadata": {
        "colab": {
          "base_uri": "https://localhost:8080/"
        },
        "id": "i6LiesGhVDBU",
        "outputId": "eb5dc953-8712-46ea-ac6e-67958169c11c"
      },
      "execution_count": 28,
      "outputs": [
        {
          "output_type": "stream",
          "name": "stdout",
          "text": [
            "MultinomialNB()\n",
            "MultinomialNB()\n",
            "[0 0 0 ... 1 1 1]\n",
            "[0 0 0 ... 1 1 1]\n",
            "MNB Bag of Words Accuracy: 0.7461746174617462\n",
            "MNB TF-IDF Accuracy: 0.7458745874587459\n",
            "Predicted Sentiment using MNB and BoW: Negative\n",
            "Predicted Sentiment using MNB and TF-IDF: Negative\n"
          ]
        }
      ]
    },
    {
      "cell_type": "code",
      "source": [
        "import pickle\n",
        "\n",
        "# Save the trained models to disk\n",
        "with open('svm_bow_model.pkl', 'wb') as file:\n",
        "    pickle.dump(svm_bow, file)\n",
        "\n",
        "with open('svm_tfidf_model.pkl', 'wb') as file:\n",
        "    pickle.dump(svm_tfidf, file)\n",
        "\n",
        "# Load the trained models from disk\n",
        "with open('svm_bow_model.pkl', 'rb') as file:\n",
        "    loaded_svm_bow_model = pickle.load(file)\n",
        "\n",
        "with open('svm_tfidf_model.pkl', 'rb') as file:\n",
        "    loaded_svm_tfidf_model = pickle.load(file)\n",
        "\n",
        "# Now you can use the loaded SVM models for real-time inference on new data\n",
        "def predict_sentiment_svm_bow(model, text):\n",
        "    # Preprocess the input text\n",
        "    processed_text = denoise_text(text)\n",
        "    processed_text = remove_special_characters(processed_text)\n",
        "    processed_text = simple_stemmer(processed_text)\n",
        "    processed_text = remove_stopwords(processed_text)\n",
        "\n",
        "    # Transform the processed text using the CountVectorizer\n",
        "    text_vector = cv.transform([processed_text])\n",
        "\n",
        "    # Predict sentiment using the model\n",
        "    sentiment_prediction = model.predict(text_vector)\n",
        "\n",
        "    if sentiment_prediction[0] == 1:\n",
        "        return 'Positive'\n",
        "    else:\n",
        "        return 'Negative'\n",
        "\n",
        "def predict_sentiment_svm_tfidf(model, text):\n",
        "    # Preprocess the input text\n",
        "    processed_text = denoise_text(text)\n",
        "    processed_text = remove_special_characters(processed_text)\n",
        "    processed_text = simple_stemmer(processed_text)\n",
        "    processed_text = remove_stopwords(processed_text)\n",
        "\n",
        "    # Transform the processed text using the TfidfVectorizer\n",
        "    text_vector = tv.transform([processed_text])\n",
        "\n",
        "    # Predict sentiment using the model\n",
        "    sentiment_prediction = model.predict(text_vector)\n",
        "\n",
        "    if sentiment_prediction[0] == 1:\n",
        "        return 'Positive'\n",
        "    else:\n",
        "        return 'Negative'\n",
        "\n",
        "# Example of real-time inference using the loaded SVM models\n",
        "new_text = \"it was not good!\"\n",
        "predicted_sentiment_svm_bow = predict_sentiment_svm_bow(loaded_svm_bow_model, new_text)\n",
        "predicted_sentiment_svm_tfidf = predict_sentiment_svm_tfidf(loaded_svm_tfidf_model, new_text)\n",
        "\n",
        "print(\"Predicted Sentiment using SVM and BoW:\", predicted_sentiment_svm_bow)\n",
        "print(\"Predicted Sentiment using SVM and TF-IDF:\", predicted_sentiment_svm_tfidf)\n"
      ],
      "metadata": {
        "colab": {
          "base_uri": "https://localhost:8080/"
        },
        "id": "n4pGToRgU8Wf",
        "outputId": "0c8b421d-de2f-4869-b542-9b8e27dc7b1f"
      },
      "execution_count": 29,
      "outputs": [
        {
          "output_type": "stream",
          "name": "stdout",
          "text": [
            "Predicted Sentiment using SVM and BoW: Positive\n",
            "Predicted Sentiment using SVM and TF-IDF: Positive\n"
          ]
        }
      ]
    },
    {
      "cell_type": "code",
      "source": [
        "mnb=MultinomialNB()\n",
        "#fitting the svm for bag of words\n",
        "mnb_bow=mnb.fit(cv_train_reviews,train_sentiments)\n",
        "print(mnb_bow)\n",
        "#fitting the svm for tfidf features\n",
        "mnb_tfidf=mnb.fit(tv_train_reviews,train_sentiments)\n",
        "print(mnb_tfidf)\n",
        "\n",
        "mnb_bow_predict=mnb.predict(cv_test_reviews)\n",
        "print(svm_bow_predict)\n",
        "#Predicting the model for tfidf features\n",
        "mnb_tfidf_predict=mnb.predict(tv_test_reviews)\n",
        "print(mnb_tfidf_predict)"
      ],
      "metadata": {
        "colab": {
          "base_uri": "https://localhost:8080/"
        },
        "id": "sh1r41lYWFdL",
        "outputId": "8da6d31f-025c-4fd1-8e2f-01eddf8e30fb"
      },
      "execution_count": 30,
      "outputs": [
        {
          "output_type": "stream",
          "name": "stdout",
          "text": [
            "MultinomialNB()\n",
            "MultinomialNB()\n",
            "[1 1 0 ... 1 1 1]\n",
            "[0 0 0 ... 1 1 1]\n"
          ]
        }
      ]
    },
    {
      "cell_type": "code",
      "source": [
        "mnb_bow_predict=mnb.predict(cv_test_reviews)\n",
        "print(mnb_bow_predict)\n",
        "#Predicting the model for tfidf features\n",
        "mnb_tfidf_predict=mnb.predict(tv_test_reviews)\n",
        "print(mnb_tfidf_predict)"
      ],
      "metadata": {
        "colab": {
          "base_uri": "https://localhost:8080/"
        },
        "id": "LlIh04yAWRAW",
        "outputId": "24337a2c-fdde-49a4-d3c5-51a5558584e0"
      },
      "execution_count": 31,
      "outputs": [
        {
          "output_type": "stream",
          "name": "stdout",
          "text": [
            "[0 0 0 ... 1 1 1]\n",
            "[0 0 0 ... 1 1 1]\n"
          ]
        }
      ]
    },
    {
      "cell_type": "code",
      "source": [
        "import pickle\n",
        "\n",
        "# Save the trained models to disk\n",
        "with open('lr_bow_model.pkl', 'wb') as file:\n",
        "    pickle.dump(lr_bow, file)\n",
        "\n",
        "with open('lr_tfidf_model.pkl', 'wb') as file:\n",
        "    pickle.dump(lr_tfidf, file)\n",
        "\n",
        "with open('svm_bow_model.pkl', 'wb') as file:\n",
        "    pickle.dump(svm_bow, file)\n",
        "\n",
        "with open('svm_tfidf_model.pkl', 'wb') as file:\n",
        "    pickle.dump(svm_tfidf, file)\n",
        "\n",
        "with open('mnb_bow_model.pkl', 'wb') as file:\n",
        "    pickle.dump(mnb_bow, file)\n",
        "\n",
        "with open('mnb_tfidf_model.pkl', 'wb') as file:\n",
        "    pickle.dump(mnb_tfidf, file)\n",
        "\n",
        "# Load the trained models from disk\n",
        "with open('lr_bow_model.pkl', 'rb') as file:\n",
        "    loaded_lr_bow_model = pickle.load(file)\n",
        "\n",
        "with open('lr_tfidf_model.pkl', 'rb') as file:\n",
        "    loaded_lr_tfidf_model = pickle.load(file)\n",
        "\n",
        "with open('svm_bow_model.pkl', 'rb') as file:\n",
        "    loaded_svm_bow_model = pickle.load(file)\n",
        "\n",
        "with open('svm_tfidf_model.pkl', 'rb') as file:\n",
        "    loaded_svm_tfidf_model = pickle.load(file)\n",
        "\n",
        "with open('mnb_bow_model.pkl', 'rb') as file:\n",
        "    loaded_mnb_bow_model = pickle.load(file)\n",
        "\n",
        "with open('mnb_tfidf_model.pkl', 'rb') as file:\n",
        "    loaded_mnb_tfidf_model = pickle.load(file)\n",
        "\n",
        "# Now you can use the loaded models for real-time inference on new data\n",
        "# (Code for predict_sentiment functions)\n",
        "\n",
        "# Example of real-time inference using the loaded models\n",
        "new_text = \"I really enjoyed watching this movie. The acting was great!\"\n",
        "predicted_sentiment_lr_bow = predict_sentiment_bow(loaded_lr_bow_model, new_text)\n",
        "predicted_sentiment_lr_tfidf = predict_sentiment_tfidf(loaded_lr_tfidf_model, new_text)\n",
        "predicted_sentiment_svm_bow = predict_sentiment_svm_bow(loaded_svm_bow_model, new_text)\n",
        "predicted_sentiment_svm_tfidf = predict_sentiment_svm_tfidf(loaded_svm_tfidf_model, new_text)\n",
        "predicted_sentiment_mnb_bow = predict_sentiment_mnb_bow(loaded_mnb_bow_model, new_text)\n",
        "predicted_sentiment_mnb_tfidf = predict_sentiment_mnb_tfidf(loaded_mnb_tfidf_model, new_text)\n",
        "\n",
        "print(\"Predicted Sentiment using Logistic Regression and BoW:\", predicted_sentiment_lr_bow)\n",
        "print(\"Predicted Sentiment using Logistic Regression and TF-IDF:\", predicted_sentiment_lr_tfidf)\n",
        "print(\"Predicted Sentiment using SVM and BoW:\", predicted_sentiment_svm_bow)\n",
        "print(\"Predicted Sentiment using SVM and TF-IDF:\", predicted_sentiment_svm_tfidf)\n",
        "print(\"Predicted Sentiment using MNB and BoW:\", predicted_sentiment_mnb_bow)\n",
        "print(\"Predicted Sentiment using MNB and TF-IDF:\", predicted_sentiment_mnb_tfidf)\n"
      ],
      "metadata": {
        "colab": {
          "base_uri": "https://localhost:8080/"
        },
        "id": "RbvdjuUMWI92",
        "outputId": "676de24c-dae5-481e-e21d-e13c61ec9856"
      },
      "execution_count": 32,
      "outputs": [
        {
          "output_type": "stream",
          "name": "stdout",
          "text": [
            "Predicted Sentiment using Logistic Regression and BoW: Negative\n",
            "Predicted Sentiment using Logistic Regression and TF-IDF: Negative\n",
            "Predicted Sentiment using SVM and BoW: Positive\n",
            "Predicted Sentiment using SVM and TF-IDF: Positive\n",
            "Predicted Sentiment using MNB and BoW: Negative\n",
            "Predicted Sentiment using MNB and TF-IDF: Negative\n"
          ]
        }
      ]
    },
    {
      "cell_type": "code",
      "source": [
        "#the results of the above are not accurate so we will try another approch\n"
      ],
      "metadata": {
        "id": "9RUJ6l0jE1bU"
      },
      "execution_count": null,
      "outputs": []
    },
    {
      "cell_type": "code",
      "source": [],
      "metadata": {
        "id": "lRiVmujmk8v2"
      },
      "execution_count": null,
      "outputs": []
    },
    {
      "cell_type": "code",
      "execution_count": 1,
      "metadata": {
        "id": "rbKaoTSzlAkD"
      },
      "outputs": [],
      "source": [
        "import re\n",
        "import pandas as pd\n",
        "from sklearn.model_selection import train_test_split as tts\n",
        "from keras.layers import Dense, LSTM,Embedding, SpatialDropout1D\n",
        "from keras.utils.np_utils import to_categorical\n",
        "from keras.models import Sequential\n",
        "from keras.preprocessing.text import Tokenizer\n",
        "from keras.utils.data_utils import pad_sequences\n",
        "import pandas as pd\n",
        "from sklearn.feature_extraction.text import TfidfVectorizer\n",
        "import re\n",
        "import string\n",
        "from sklearn.metrics import accuracy_score, confusion_matrix\n",
        "from sklearn.model_selection import train_test_split as tts"
      ]
    },
    {
      "cell_type": "code",
      "source": [
        "#loading data from csv file\n",
        "data=pd.read_csv('/content/drive/MyDrive/IMDBDataset.csv')"
      ],
      "metadata": {
        "id": "4qsXVIMwlbX2"
      },
      "execution_count": 25,
      "outputs": []
    },
    {
      "cell_type": "code",
      "source": [
        "#showing columne\n",
        "data.columns"
      ],
      "metadata": {
        "colab": {
          "base_uri": "https://localhost:8080/"
        },
        "id": "XCZxfYd3lmmq",
        "outputId": "2c39a9a9-e014-4351-dcdb-b4f427398d95"
      },
      "execution_count": 26,
      "outputs": [
        {
          "output_type": "execute_result",
          "data": {
            "text/plain": [
              "Index(['review', 'sentiment'], dtype='object')"
            ]
          },
          "metadata": {},
          "execution_count": 26
        }
      ]
    },
    {
      "cell_type": "code",
      "source": [
        "#text preprocrdding for text classfication\n",
        "def normalized_text(text):\n",
        "    text=text.lower()\n",
        "    text=re.sub('\\[.*?\\]','',text)\n",
        "    text=re.sub('[%s]'%re.escape(string.punctuation),'',text)\n",
        "    text=re.sub('\\w*\\d\\w*','',text)\n",
        "    return text\n",
        "\n",
        "normalized=lambda x:normalized_text(x)#cleaned1"
      ],
      "metadata": {
        "id": "IbFpyNt5ltI-"
      },
      "execution_count": 27,
      "outputs": []
    },
    {
      "cell_type": "code",
      "source": [
        "#applying preprocessing to loaded dataset\n",
        "data['review']=pd.DataFrame(data.review.apply(normalized))\n"
      ],
      "metadata": {
        "id": "fDAazXotml0K"
      },
      "execution_count": 28,
      "outputs": []
    },
    {
      "cell_type": "code",
      "source": [
        "#removing certain characters from the input text.\n",
        "def preprocess(text):\n",
        "    text=re.sub('[''\"\",,,]','',text)\n",
        "    text=re.sub('\\n','',text)\n",
        "    return text\n",
        "\n",
        "processed=lambda x:preprocess(x)"
      ],
      "metadata": {
        "id": "ub9xxJbVml-G"
      },
      "execution_count": 29,
      "outputs": []
    },
    {
      "cell_type": "code",
      "source": [
        "#applied preprocessing on data\n",
        "data['review']=pd.DataFrame(data.review.apply(processed))\n"
      ],
      "metadata": {
        "id": "KgrUB3n_mmKh"
      },
      "execution_count": 33,
      "outputs": []
    },
    {
      "cell_type": "code",
      "source": [
        "#slecting predictor and response\n",
        "x = data.iloc[0:,0].values\n",
        "y = data.iloc[0:,1].values"
      ],
      "metadata": {
        "id": "BbDwLQjnmmOl"
      },
      "execution_count": 34,
      "outputs": []
    },
    {
      "cell_type": "code",
      "source": [
        "#spliiting  the data for testing and training\n",
        "xtrain,xtest,ytrain,ytest = tts(x,y,test_size = 0.25,random_state = 42)\n"
      ],
      "metadata": {
        "id": "ZfxPuyRTmmRb"
      },
      "execution_count": 35,
      "outputs": []
    },
    {
      "cell_type": "code",
      "source": [
        "#TfidfVectorizer  contians text processing techniques such as tokeninzaiotn\n",
        "#Term Frequency\n",
        "#Inverse Document Frequency (IDF)\n",
        "tf = TfidfVectorizer()\n",
        "print(tf)\n",
        "from sklearn.pipeline import Pipeline"
      ],
      "metadata": {
        "id": "eNmbAmTXmmUS",
        "colab": {
          "base_uri": "https://localhost:8080/"
        },
        "outputId": "29f5e34d-0e09-44d8-e841-5bc4f1a3899d"
      },
      "execution_count": 52,
      "outputs": [
        {
          "output_type": "stream",
          "name": "stdout",
          "text": [
            "TfidfVectorizer()\n"
          ]
        }
      ]
    },
    {
      "cell_type": "code",
      "source": [
        "#perform text classification using the TF-IDF vectorizer and a Logistic Regression classifier\n",
        "from sklearn.linear_model import LogisticRegression\n",
        "classifier=LogisticRegression()\n",
        "model=Pipeline([('vectorizer',tf),('classifier',classifier)])\n",
        "\n",
        "model.fit(xtrain,ytrain)"
      ],
      "metadata": {
        "colab": {
          "base_uri": "https://localhost:8080/",
          "height": 125
        },
        "id": "u86na7aXmmXC",
        "outputId": "d5505453-70d4-4cbd-849a-f83f9ea82ea6"
      },
      "execution_count": 38,
      "outputs": [
        {
          "output_type": "execute_result",
          "data": {
            "text/plain": [
              "Pipeline(steps=[('vectorizer', TfidfVectorizer()),\n",
              "                ('classifier', LogisticRegression())])"
            ],
            "text/html": [
              "<style>#sk-container-id-2 {color: black;background-color: white;}#sk-container-id-2 pre{padding: 0;}#sk-container-id-2 div.sk-toggleable {background-color: white;}#sk-container-id-2 label.sk-toggleable__label {cursor: pointer;display: block;width: 100%;margin-bottom: 0;padding: 0.3em;box-sizing: border-box;text-align: center;}#sk-container-id-2 label.sk-toggleable__label-arrow:before {content: \"▸\";float: left;margin-right: 0.25em;color: #696969;}#sk-container-id-2 label.sk-toggleable__label-arrow:hover:before {color: black;}#sk-container-id-2 div.sk-estimator:hover label.sk-toggleable__label-arrow:before {color: black;}#sk-container-id-2 div.sk-toggleable__content {max-height: 0;max-width: 0;overflow: hidden;text-align: left;background-color: #f0f8ff;}#sk-container-id-2 div.sk-toggleable__content pre {margin: 0.2em;color: black;border-radius: 0.25em;background-color: #f0f8ff;}#sk-container-id-2 input.sk-toggleable__control:checked~div.sk-toggleable__content {max-height: 200px;max-width: 100%;overflow: auto;}#sk-container-id-2 input.sk-toggleable__control:checked~label.sk-toggleable__label-arrow:before {content: \"▾\";}#sk-container-id-2 div.sk-estimator input.sk-toggleable__control:checked~label.sk-toggleable__label {background-color: #d4ebff;}#sk-container-id-2 div.sk-label input.sk-toggleable__control:checked~label.sk-toggleable__label {background-color: #d4ebff;}#sk-container-id-2 input.sk-hidden--visually {border: 0;clip: rect(1px 1px 1px 1px);clip: rect(1px, 1px, 1px, 1px);height: 1px;margin: -1px;overflow: hidden;padding: 0;position: absolute;width: 1px;}#sk-container-id-2 div.sk-estimator {font-family: monospace;background-color: #f0f8ff;border: 1px dotted black;border-radius: 0.25em;box-sizing: border-box;margin-bottom: 0.5em;}#sk-container-id-2 div.sk-estimator:hover {background-color: #d4ebff;}#sk-container-id-2 div.sk-parallel-item::after {content: \"\";width: 100%;border-bottom: 1px solid gray;flex-grow: 1;}#sk-container-id-2 div.sk-label:hover label.sk-toggleable__label {background-color: #d4ebff;}#sk-container-id-2 div.sk-serial::before {content: \"\";position: absolute;border-left: 1px solid gray;box-sizing: border-box;top: 0;bottom: 0;left: 50%;z-index: 0;}#sk-container-id-2 div.sk-serial {display: flex;flex-direction: column;align-items: center;background-color: white;padding-right: 0.2em;padding-left: 0.2em;position: relative;}#sk-container-id-2 div.sk-item {position: relative;z-index: 1;}#sk-container-id-2 div.sk-parallel {display: flex;align-items: stretch;justify-content: center;background-color: white;position: relative;}#sk-container-id-2 div.sk-item::before, #sk-container-id-2 div.sk-parallel-item::before {content: \"\";position: absolute;border-left: 1px solid gray;box-sizing: border-box;top: 0;bottom: 0;left: 50%;z-index: -1;}#sk-container-id-2 div.sk-parallel-item {display: flex;flex-direction: column;z-index: 1;position: relative;background-color: white;}#sk-container-id-2 div.sk-parallel-item:first-child::after {align-self: flex-end;width: 50%;}#sk-container-id-2 div.sk-parallel-item:last-child::after {align-self: flex-start;width: 50%;}#sk-container-id-2 div.sk-parallel-item:only-child::after {width: 0;}#sk-container-id-2 div.sk-dashed-wrapped {border: 1px dashed gray;margin: 0 0.4em 0.5em 0.4em;box-sizing: border-box;padding-bottom: 0.4em;background-color: white;}#sk-container-id-2 div.sk-label label {font-family: monospace;font-weight: bold;display: inline-block;line-height: 1.2em;}#sk-container-id-2 div.sk-label-container {text-align: center;}#sk-container-id-2 div.sk-container {/* jupyter's `normalize.less` sets `[hidden] { display: none; }` but bootstrap.min.css set `[hidden] { display: none !important; }` so we also need the `!important` here to be able to override the default hidden behavior on the sphinx rendered scikit-learn.org. See: https://github.com/scikit-learn/scikit-learn/issues/21755 */display: inline-block !important;position: relative;}#sk-container-id-2 div.sk-text-repr-fallback {display: none;}</style><div id=\"sk-container-id-2\" class=\"sk-top-container\"><div class=\"sk-text-repr-fallback\"><pre>Pipeline(steps=[(&#x27;vectorizer&#x27;, TfidfVectorizer()),\n",
              "                (&#x27;classifier&#x27;, LogisticRegression())])</pre><b>In a Jupyter environment, please rerun this cell to show the HTML representation or trust the notebook. <br />On GitHub, the HTML representation is unable to render, please try loading this page with nbviewer.org.</b></div><div class=\"sk-container\" hidden><div class=\"sk-item sk-dashed-wrapped\"><div class=\"sk-label-container\"><div class=\"sk-label sk-toggleable\"><input class=\"sk-toggleable__control sk-hidden--visually\" id=\"sk-estimator-id-4\" type=\"checkbox\" ><label for=\"sk-estimator-id-4\" class=\"sk-toggleable__label sk-toggleable__label-arrow\">Pipeline</label><div class=\"sk-toggleable__content\"><pre>Pipeline(steps=[(&#x27;vectorizer&#x27;, TfidfVectorizer()),\n",
              "                (&#x27;classifier&#x27;, LogisticRegression())])</pre></div></div></div><div class=\"sk-serial\"><div class=\"sk-item\"><div class=\"sk-estimator sk-toggleable\"><input class=\"sk-toggleable__control sk-hidden--visually\" id=\"sk-estimator-id-5\" type=\"checkbox\" ><label for=\"sk-estimator-id-5\" class=\"sk-toggleable__label sk-toggleable__label-arrow\">TfidfVectorizer</label><div class=\"sk-toggleable__content\"><pre>TfidfVectorizer()</pre></div></div></div><div class=\"sk-item\"><div class=\"sk-estimator sk-toggleable\"><input class=\"sk-toggleable__control sk-hidden--visually\" id=\"sk-estimator-id-6\" type=\"checkbox\" ><label for=\"sk-estimator-id-6\" class=\"sk-toggleable__label sk-toggleable__label-arrow\">LogisticRegression</label><div class=\"sk-toggleable__content\"><pre>LogisticRegression()</pre></div></div></div></div></div></div></div>"
            ]
          },
          "metadata": {},
          "execution_count": 38
        }
      ]
    },
    {
      "cell_type": "code",
      "source": [
        "#ypred to assign predicted response\n",
        "ypred=model.predict(xtest)"
      ],
      "metadata": {
        "id": "UAkIOt4mmmaL"
      },
      "execution_count": 39,
      "outputs": []
    },
    {
      "cell_type": "code",
      "source": [
        "# model score\n",
        "accuracy_score(ypred,ytest)"
      ],
      "metadata": {
        "colab": {
          "base_uri": "https://localhost:8080/"
        },
        "id": "l-0mgioonu6E",
        "outputId": "3b7a7dd0-421f-416f-e55d-dd22a08c0510"
      },
      "execution_count": 18,
      "outputs": [
        {
          "output_type": "execute_result",
          "data": {
            "text/plain": [
              "0.89224"
            ]
          },
          "metadata": {},
          "execution_count": 18
        }
      ]
    },
    {
      "cell_type": "code",
      "source": [
        "# confusion matrix\n",
        "c_matrix=confusion_matrix(ytest,ypred)\n",
        "print(c_matrix)"
      ],
      "metadata": {
        "colab": {
          "base_uri": "https://localhost:8080/"
        },
        "id": "eZ1v73ePnwaD",
        "outputId": "3d743578-98f8-40c2-a19e-401f99198824"
      },
      "execution_count": 19,
      "outputs": [
        {
          "output_type": "stream",
          "name": "stdout",
          "text": [
            "[[5538  731]\n",
            " [ 616 5615]]\n"
          ]
        }
      ]
    },
    {
      "cell_type": "code",
      "source": [
        "# f1 score\n",
        "\n",
        "recall=c_matrix[0][0]/(c_matrix[0][0]+c_matrix[1][0])\n",
        "precision=c_matrix[0][0]/(c_matrix[0][0]+c_matrix[0][1])\n",
        "F1=2*recall*precision/(recall+precision)\n",
        "print(F1)"
      ],
      "metadata": {
        "colab": {
          "base_uri": "https://localhost:8080/"
        },
        "id": "nuHuJmZAnwhO",
        "outputId": "100beb2c-c2aa-4586-8e08-86d67a767cad"
      },
      "execution_count": 21,
      "outputs": [
        {
          "output_type": "stream",
          "name": "stdout",
          "text": [
            "0.8915720840376721\n"
          ]
        }
      ]
    },
    {
      "cell_type": "code",
      "source": [
        "def predict_sentiment(sentence):\n",
        "    preprocessed_sentence = preprocess(normalized_text(sentence))\n",
        "    predicted_sentiment = model.predict([preprocessed_sentence])\n",
        "    return predicted_sentiment[0]\n",
        "\n",
        "# Test the function with an example sentence\n",
        "example_sentence = \"It was a good movie.\"\n",
        "predicted_sentiment = predict_sentiment(example_sentence)\n",
        "print(\"Predicted Sentiment:\", predicted_sentiment)"
      ],
      "metadata": {
        "colab": {
          "base_uri": "https://localhost:8080/"
        },
        "id": "G5QtGmHonwyf",
        "outputId": "f77a982d-b79b-4848-dbdb-a5d76d182696"
      },
      "execution_count": 40,
      "outputs": [
        {
          "output_type": "stream",
          "name": "stdout",
          "text": [
            "Predicted Sentiment: positive\n"
          ]
        }
      ]
    },
    {
      "cell_type": "code",
      "source": [
        "#saving the model for pickle pile\n",
        "import pickle\n",
        "\n",
        "# Save the model weights\n",
        "pickle.dump(model, open('model.pkl', 'wb'))"
      ],
      "metadata": {
        "id": "wm48QopxO_kU"
      },
      "execution_count": 58,
      "outputs": []
    },
    {
      "cell_type": "code",
      "source": [
        "import pickle\n",
        "\n",
        "# Load the model\n",
        "model = pickle.load(open('model.pkl', 'rb'))\n",
        "\n",
        "# Predict the sentiment of a new sentence\n",
        "sentence = \"It was a good movie.\"\n",
        "preprocessed_sentence = preprocess(normalized_text(sentence))\n",
        "predicted_sentiment = model.predict([preprocessed_sentence])\n",
        "\n",
        "# Print the predicted sentiment\n",
        "print(\"Predicted sentiment:\", predicted_sentiment[0])\n"
      ],
      "metadata": {
        "colab": {
          "base_uri": "https://localhost:8080/"
        },
        "id": "U9uBUeiMO-JT",
        "outputId": "76971f6d-cc4e-4110-9d58-c9f4be8248dd"
      },
      "execution_count": 59,
      "outputs": [
        {
          "output_type": "stream",
          "name": "stdout",
          "text": [
            "Predicted sentiment: positive\n"
          ]
        }
      ]
    },
    {
      "cell_type": "code",
      "source": [
        "import pickle\n",
        "import re\n",
        "def preprocess(text):\n",
        "    text=re.sub('[''\"\",,,]','',text)\n",
        "    text=re.sub('\\n','',text)\n",
        "    return text\n",
        "def normalized_text(text):\n",
        "    text=text.lower()\n",
        "    text=re.sub('\\[.*?\\]','',text)\n",
        "    text=re.sub('[%s]'%re.escape(string.punctuation),'',text)\n",
        "    text=re.sub('\\w*\\d\\w*','',text)\n",
        "    return text\n",
        "\n",
        "normalized=lambda x:normalized_text(x)#cleaned1\n",
        "# Load the model\n",
        "model = pickle.load(open('model.pkl', 'rb'))\n",
        "\n",
        "# Predict the sentiment of a new sentence\n",
        "sentence = \"It was a good movie.\"\n",
        "preprocessed_sentence = preprocess(normalized_text(sentence))\n",
        "predicted_sentiment = model.predict([preprocessed_sentence])\n",
        "\n",
        "# Print the predicted sentiment\n",
        "print(\"Predicted sentiment:\", predicted_sentiment[0])"
      ],
      "metadata": {
        "colab": {
          "base_uri": "https://localhost:8080/"
        },
        "id": "JnEiMnOZRed2",
        "outputId": "383ed04b-9103-485b-8a79-738d163a8400"
      },
      "execution_count": 61,
      "outputs": [
        {
          "output_type": "stream",
          "name": "stdout",
          "text": [
            "Predicted sentiment: positive\n"
          ]
        }
      ]
    },
    {
      "cell_type": "code",
      "source": [
        "%cp /content/model.pkl /content/drive/MyDrive/sentiment.pkl"
      ],
      "metadata": {
        "id": "nunN9LiUSnQW"
      },
      "execution_count": 62,
      "outputs": []
    }
  ]
}