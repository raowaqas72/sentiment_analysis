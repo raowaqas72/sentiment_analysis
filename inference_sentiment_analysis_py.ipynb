{
  "nbformat": 4,
  "nbformat_minor": 0,
  "metadata": {
    "colab": {
      "provenance": []
    },
    "kernelspec": {
      "name": "python3",
      "display_name": "Python 3"
    },
    "language_info": {
      "name": "python"
    }
  },
  "cells": [
    {
      "cell_type": "code",
      "execution_count": 3,
      "metadata": {
        "colab": {
          "base_uri": "https://localhost:8080/"
        },
        "id": "7knXSxg8Sg0b",
        "outputId": "8db8e241-1f7d-4734-8d27-f2788e3f6560"
      },
      "outputs": [
        {
          "output_type": "stream",
          "name": "stdout",
          "text": [
            "It was a good movie. positive\n"
          ]
        }
      ],
      "source": [
        "import pickle\n",
        "import re\n",
        "import re\n",
        "import pandas as pd\n",
        "from sklearn.model_selection import train_test_split as tts\n",
        "from keras.layers import Dense, LSTM,Embedding, SpatialDropout1D\n",
        "from keras.utils.np_utils import to_categorical\n",
        "from keras.models import Sequential\n",
        "from keras.preprocessing.text import Tokenizer\n",
        "from keras.utils.data_utils import pad_sequences\n",
        "import pandas as pd\n",
        "from sklearn.feature_extraction.text import TfidfVectorizer\n",
        "import re\n",
        "import string\n",
        "from sklearn.metrics import accuracy_score, confusion_matrix\n",
        "from sklearn.model_selection import train_test_split as tts\n",
        "def preprocess(text):\n",
        "    text=re.sub('[''\"\",,,]','',text)\n",
        "    text=re.sub('\\n','',text)\n",
        "    return text\n",
        "def normalized_text(text):\n",
        "    text=text.lower()\n",
        "    text=re.sub('\\[.*?\\]','',text)\n",
        "    text=re.sub('[%s]'%re.escape(string.punctuation),'',text)\n",
        "    text=re.sub('\\w*\\d\\w*','',text)\n",
        "    return text\n",
        "\n",
        "normalized=lambda x:normalized_text(x)#cleaned1\n",
        "# Load the model\n",
        "model = pickle.load(open('/content/drive/MyDrive/sentiment.pkl', 'rb'))\n",
        "\n",
        "# Predict the sentiment of a new sentence\n",
        "sentence = \"It was a good movie.\"\n",
        "preprocessed_sentence = preprocess(normalized_text(sentence))\n",
        "predicted_sentiment = model.predict([preprocessed_sentence])\n",
        "\n",
        "# Print the predicted sentiment\n",
        "print(sentence, predicted_sentiment[0])"
      ]
    },
    {
      "cell_type": "code",
      "source": [],
      "metadata": {
        "id": "9NNJCoL-S6tm"
      },
      "execution_count": null,
      "outputs": []
    }
  ]
}